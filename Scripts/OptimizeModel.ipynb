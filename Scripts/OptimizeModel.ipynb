{
 "cells": [
  {
   "cell_type": "code",
   "execution_count": null,
   "metadata": {},
   "outputs": [],
   "source": [
    "!pip install tensorflow-model-optimization"
   ]
  },
  {
   "cell_type": "code",
   "execution_count": null,
   "metadata": {},
   "outputs": [],
   "source": [
    "import tensorflow as tf\n",
    "import tensorflow_model_optimization as tfmot\n",
    "import tensorflow_datasets as tfds\n",
    "from tqdm import tqdm\n",
    "import keras\n",
    "\n",
    "from google.colab import drive\n",
    "drive.mount('/content/drive')"
   ]
  },
  {
   "cell_type": "markdown",
   "metadata": {},
   "source": [
    "### Observe Pruning Metrics\n",
    "\n",
    "Note: run the following commands __after__ the pruning execution"
   ]
  },
  {
   "cell_type": "code",
   "execution_count": null,
   "metadata": {},
   "outputs": [],
   "source": [
    "%load_ext tensorboard\n",
    "%tensorboard --logdir /content/drive/MyDrive/Computer-Vision/Models/FineTuning/Pruning/logs"
   ]
  },
  {
   "cell_type": "markdown",
   "metadata": {},
   "source": [
    "## Parameters Configuration"
   ]
  },
  {
   "cell_type": "code",
   "execution_count": null,
   "metadata": {},
   "outputs": [],
   "source": [
    "SHUFFLE_BUFFER_SIZE = 1000\n",
    "BATCH_SIZE = 32\n",
    "IMG_SIZE = 224\n",
    "EPOCHS = 5\n",
    "\n",
    "#Adjust the paths as needed\n",
    "BASE_PATH = '/content/drive/MyDrive/Computer-Vision'\n",
    "DATASET_PATH = BASE_PATH + '/Dataset/'\n",
    "MODEL_LOAD_PATH = BASE_PATH + '/Models/FineTuning/V1-Batch32.h5'\n",
    "PRUNED_MODEL_SAVE_PATH = BASE_PATH + '/Models/Pruning/pruned-model.h5'\n",
    "COMPRESSED_MODEL_SAVE_PATH = BASE_PATH + '/TFlite-Models/tfLite-model.tflite'"
   ]
  },
  {
   "cell_type": "markdown",
   "metadata": {},
   "source": [
    "## Model Loading"
   ]
  },
  {
   "cell_type": "code",
   "execution_count": null,
   "metadata": {},
   "outputs": [],
   "source": [
    "trained_model = tf.keras.models.load_model(MODEL_LOAD_PATH)"
   ]
  },
  {
   "cell_type": "markdown",
   "metadata": {},
   "source": [
    "## Data Loading"
   ]
  },
  {
   "cell_type": "code",
   "execution_count": null,
   "metadata": {},
   "outputs": [],
   "source": [
    "def format_image(image , label):\n",
    "    image = tf.cast(image, tf.float32)\n",
    "    image = (image/127.5) - 1\n",
    "    image = tf.image.resize(image, (IMG_SIZE, IMG_SIZE))\n",
    "    return image, label\n",
    "\n",
    "# The script will assume to find three subfolders in the DATASET_PATH :\n",
    "#  - train \n",
    "#  - val (for validation data)\n",
    "#  - test\n",
    "builder = tfds.folder_dataset.ImageFolder(DATASET_PATH)\n",
    "raw_train = builder.as_dataset(split='train', as_supervised=True, shuffle_files=True)\n",
    "raw_validation = builder.as_dataset(split='val', as_supervised=True)\n",
    "\n",
    "info = builder.info\n",
    "label_names = info.features['label'].names\n",
    "\n",
    "print(\"Total training images: {}  \".format(len(raw_train)) )\n",
    "print(\"Total validation images: {} \".format(len(raw_validation)))\n",
    "print(\"Label names: {}\".format(info.features['label'].names))\n",
    "\n",
    "#Pre-process all the images in order to match the expected pre-requisites for the input of MobileNetV2\n",
    "train = raw_train.map(format_image)\n",
    "validation = raw_validation.map(format_image)\n",
    "\n",
    "train_batches = train.shuffle(SHUFFLE_BUFFER_SIZE).batch(BATCH_SIZE)\n",
    "validation_batches = validation.batch(BATCH_SIZE)"
   ]
  },
  {
   "cell_type": "markdown",
   "metadata": {},
   "source": [
    "## Pruning Setup"
   ]
  },
  {
   "cell_type": "code",
   "execution_count": null,
   "metadata": {},
   "outputs": [],
   "source": [
    "end_step = len(train_batches) * EPOCHS\n",
    "\n",
    "pruning_params = {\n",
    "    'pruning_schedule': tfmot.sparsity.keras.PolynomialDecay(\n",
    "        initial_sparsity=0.1,\n",
    "        final_sparsity=0.40,\n",
    "        begin_step=0,\n",
    "        end_step=end_step\n",
    "    )\n",
    "}\n",
    "\n",
    "model_to_prune = tfmot.sparsity.keras.prune_low_magnitude(trained_model, **pruning_params)\n",
    "model_to_prune.compile(optimizer=tf.keras.optimizers.Adam(), loss=tf.keras.losses.SparseCategoricalCrossentropy(), metrics=['accuracy'])\n",
    "model_to_prune.summary()"
   ]
  },
  {
   "cell_type": "markdown",
   "metadata": {},
   "source": [
    "## Pruning Execution"
   ]
  },
  {
   "cell_type": "code",
   "execution_count": null,
   "metadata": {},
   "outputs": [],
   "source": [
    "callbacks = [\n",
    "    tfmot.sparsity.keras.UpdatePruningStep(),\n",
    "    tfmot.sparsity.keras.PruningSummaries(log_dir= '/content/drive/MyDrive/Computer-Vision/Models/FineTuning/Pruning/logs-mattia2'),\n",
    "    tf.keras.callbacks.ModelCheckpoint(\n",
    "        filepath='/content/drive/MyDrive/Computer-Vision/Models/FineTuning/Pruning/mattiaTest2/pruned-model.h5',\n",
    "        monitor='val_loss',\n",
    "        save_best_only=False,\n",
    "        save_weights_only=False,\n",
    "        mode='min',\n",
    "        verbose=1\n",
    "    )\n",
    "]\n",
    "\n",
    "history = model_to_prune.fit(train_batches, epochs=EPOCHS, validation_data=validation_batches, verbose=1, callbacks=callbacks)\n",
    "acc = history.history['accuracy']\n",
    "print(acc)\n",
    "\n",
    "\n",
    "model_for_export = tfmot.sparsity.keras.strip_pruning(model_to_prune)\n",
    "keras.models.save_model(model_for_export, PRUNED_MODEL_SAVE_PATH, include_optimizer=False)\n",
    "print('Saved pruned Keras model to: ', PRUNED_MODEL_SAVE_PATH)\n",
    "\n",
    "converter = tf.lite.TFLiteConverter.from_keras_model(model_for_export)\n",
    "tflite_model = converter.convert()\n",
    "\n",
    "with open(COMPRESSED_MODEL_SAVE_PATH, 'wb') as f:\n",
    "  f.write(tflite_model)"
   ]
  }
 ],
 "metadata": {
  "language_info": {
   "name": "python"
  }
 },
 "nbformat": 4,
 "nbformat_minor": 2
}
