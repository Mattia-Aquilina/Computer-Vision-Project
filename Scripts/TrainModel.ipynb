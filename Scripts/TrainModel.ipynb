{
 "cells": [
  {
   "cell_type": "code",
   "execution_count": null,
   "metadata": {},
   "outputs": [],
   "source": [
    "import tensorflow as tf\n",
    "import tensorflow_datasets as tfds\n",
    "\n",
    "from google.colab import drive\n",
    "drive.mount('/content/drive')"
   ]
  },
  {
   "cell_type": "markdown",
   "metadata": {},
   "source": [
    "## Parameters Configuration"
   ]
  },
  {
   "cell_type": "code",
   "execution_count": null,
   "metadata": {},
   "outputs": [],
   "source": [
    "IMG_SIZE = 224\n",
    "IMG_SHAPE = (IMG_SIZE, IMG_SIZE, 3)\n",
    "\n",
    "BATCH_SIZE= 32\n",
    "SHUFFLE_BUFFER_SIZE= 1000\n",
    "\n",
    "EPOCHS = 8\n",
    "\n",
    "#Adjust the paths as needed\n",
    "BASE_PATH = '/content/drive/MyDrive/Computer-Vision'\n",
    "DATASET_PATH = BASE_PATH + '/Dataset/'\n",
    "MODEL_SAVE_PATH = BASE_PATH + '/Models/FineTuning/V1-Batch32.h5'"
   ]
  },
  {
   "cell_type": "markdown",
   "metadata": {},
   "source": [
    "## Pre-Processing Function"
   ]
  },
  {
   "cell_type": "code",
   "execution_count": null,
   "metadata": {},
   "outputs": [],
   "source": [
    "def format_image(image , label):\n",
    "    image = tf.cast(image, tf.float32)\n",
    "    image = (image/127.5) - 1\n",
    "    image = tf.image.resize(image, (IMG_SIZE, IMG_SIZE))\n",
    "    return image, label"
   ]
  },
  {
   "cell_type": "markdown",
   "metadata": {},
   "source": [
    "## Data Loading"
   ]
  },
  {
   "cell_type": "code",
   "execution_count": null,
   "metadata": {},
   "outputs": [],
   "source": [
    "# The script will assume to find three subfolders in the DATASET_PATH :\n",
    "#  - train \n",
    "#  - val (for validation data)\n",
    "#  - test\n",
    "builder = tfds.folder_dataset.ImageFolder(DATASET_PATH)\n",
    "raw_train = builder.as_dataset(split='train', as_supervised=True, shuffle_files=True)\n",
    "raw_validation = builder.as_dataset(split='val', as_supervised=True)\n",
    "\n",
    "info = builder.info\n",
    "label_names = info.features['label'].names\n",
    "\n",
    "print(\"Total training images: {}  \".format(len(raw_train)) )\n",
    "print(\"Total validation images: {} \".format(len(raw_validation)))\n",
    "print(\"Label names: {}\".format(info.features['label'].names))\n",
    "\n",
    "#Pre-process all the images in order to match the expected pre-requisites for the input of MobileNetV2\n",
    "train = raw_train.map(format_image)\n",
    "validation = raw_validation.map(format_image)\n",
    "\n",
    "train_batches = train.shuffle(SHUFFLE_BUFFER_SIZE).batch(BATCH_SIZE)\n",
    "validation_batches = validation.batch(BATCH_SIZE)"
   ]
  },
  {
   "cell_type": "markdown",
   "metadata": {},
   "source": [
    "## CNN model definition"
   ]
  },
  {
   "cell_type": "code",
   "execution_count": null,
   "metadata": {},
   "outputs": [],
   "source": [
    "def build_model(model_version, layer_to_freeze):\n",
    "    #base model\n",
    "    base_model = tf.keras.applications.mobilenet_v2.MobileNetV2(include_top=False, weights='imagenet', input_shape=IMG_SHAPE)\n",
    "    num_layers_to_unfreeze = layer_to_freeze\n",
    "\n",
    "    for layer in base_model.layers:\n",
    "        layer.trainable = False\n",
    "\n",
    "    for layer in base_model.layers[-num_layers_to_unfreeze:]:\n",
    "        layer.trainable = True\n",
    "\n",
    "    if (model_version == 'V1'):\n",
    "        average_layer = tf.keras.layers.GlobalAveragePooling2D()\n",
    "        first_dense_layer = tf.keras.layers.Dense(units=256, activation='relu')\n",
    "        middle_dense_layer = tf.keras.layers.Dense(units=128, activation='relu')\n",
    "        prediction_layer = tf.keras.layers.Dense(units=5, activation='softmax')\n",
    "\n",
    "        new_model = tf.keras.Sequential([\n",
    "            base_model,\n",
    "            average_layer,\n",
    "            first_dense_layer,\n",
    "            middle_dense_layer,\n",
    "            prediction_layer\n",
    "        ])\n",
    "\n",
    "        return(new_model)\n",
    "    elif (model_version == 'V2'):\n",
    "        average_layer = tf.keras.layers.GlobalAveragePooling2D()\n",
    "        first_dense_layer = tf.keras.layers.Dense(units=128, activation='relu')\n",
    "        prediction_layer = tf.keras.layers.Dense(units=5, activation='softmax')\n",
    "\n",
    "        new_model = tf.keras.Sequential([\n",
    "            base_model,\n",
    "            average_layer,\n",
    "            first_dense_layer,\n",
    "            prediction_layer\n",
    "        ])\n",
    "\n",
    "        return(new_model)\n",
    "    elif (model_version == 'V3'):\n",
    "        average_layer = tf.keras.layers.GlobalAveragePooling2D()\n",
    "        new_model = tf.keras.Sequential([\n",
    "            base_model,\n",
    "            average_layer,\n",
    "            prediction_layer\n",
    "        ])\n",
    "\n",
    "        return(new_model)"
   ]
  },
  {
   "cell_type": "code",
   "execution_count": null,
   "metadata": {},
   "outputs": [],
   "source": [
    "VERSION = 'V1'\n",
    "\n",
    "new_model = build_model(VERSION, 5)\n",
    "new_model.compile(optimizer=tf.keras.optimizers.Adam(), loss=tf.keras.losses.SparseCategoricalCrossEntropy(), metrics=['accuracy'])\n",
    "\n",
    "new_model.summary()"
   ]
  },
  {
   "cell_type": "markdown",
   "metadata": {},
   "source": [
    "## Model Training"
   ]
  },
  {
   "cell_type": "code",
   "execution_count": null,
   "metadata": {},
   "outputs": [],
   "source": [
    "#Training for fine-tuning\n",
    "early_stop_callback = tf.keras.callbacks.EarlyStopping(monitor='val_loss', patience=5, restore_best_weights=True)\n",
    "\n",
    "check_point_callback = tf.keras.callbacks.ModelCheckpoint(\n",
    "    filepath=MODEL_SAVE_PATH,\n",
    "    monitor='val_loss',\n",
    "    save_best_only=False,\n",
    "    save_weights_only=False,\n",
    "    mode='min',\n",
    "    verbose=1\n",
    ")\n",
    "\n",
    "history = new_model.fit(train_batches, epochs=EPOCHS, validation_data=validation_batches, verbose=1, callbacks=[early_stop_callback, check_point_callback])\n",
    "acc = history.history['accuracy']\n",
    "print(acc)"
   ]
  }
 ],
 "metadata": {
  "language_info": {
   "name": "python"
  }
 },
 "nbformat": 4,
 "nbformat_minor": 2
}
