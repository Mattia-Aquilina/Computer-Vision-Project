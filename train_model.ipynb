{
 "cells": [
  {
   "cell_type": "markdown",
   "metadata": {},
   "source": [
    "## File for loading a pre-trained model based on MobileNetV2 and fine-tune the model on the deep fake dataset"
   ]
  },
  {
   "cell_type": "code",
   "execution_count": 3,
   "metadata": {},
   "outputs": [],
   "source": [
    "import tensorflow as tf\n",
    "import tensorflow_datasets as tfds\n",
    "\n",
    "IMG_SIZE = 160\n",
    "IMG_SHAPE = (IMG_SIZE, IMG_SIZE, 3)\n",
    "\n",
    "BATCH_SIZE= 32\n",
    "SHUFFLE_BUFFER_SIZE= 1000\n",
    "\n",
    "initial_epochs = 3"
   ]
  },
  {
   "cell_type": "code",
   "execution_count": null,
   "metadata": {},
   "outputs": [],
   "source": [
    "#TODO: find dataset and add pre-processing\n",
    "\n",
    "builder = tfds.folder_dataset.ImageFolder('data/')\n",
    "raw_dataset = builder.as_dataset(split='Train', as_supervised=True, shuffle_files=True)\n",
    "\n",
    "#TODO: Manage the split between train and validation\n",
    "train_batches = raw_dataset.shuffle(SHUFFLE_BUFFER_SIZE).batch(BATCH_SIZE)\n"
   ]
  },
  {
   "cell_type": "code",
   "execution_count": 4,
   "metadata": {},
   "outputs": [
    {
     "name": "stdout",
     "output_type": "stream",
     "text": [
      "2.16.1\n",
      "3.3.3\n"
     ]
    }
   ],
   "source": [
    "\n",
    "\n",
    "\n",
    "\n",
    "#Load the pre-trained model without the fully connected layer. Then, disable the training for all the layers that we have loaded\n",
    "base_model = tf.keras.applications.mobilenet_v2.MobileNetV2(include_top=False, weights='imagenet', input_shape=IMG_SIZE)\n",
    "base_model.trainable = False\n",
    "\n",
    "#TODO: adjust the fully connected layers as needed\n",
    "middle_layer = tf.keras.layers.Dense(units=120, activation='relu')\n",
    "prediction_layer = tf.keras.layers.Dense(units=2, activation='softmax')\n",
    "\n",
    "new_model = tf.keras.Sequential([\n",
    "    base_model,\n",
    "    middle_layer,\n",
    "    prediction_layer\n",
    "])\n",
    "\n",
    "new_model.compile(optimizer=tf.keras.optimizers.Adam(), loss=tf.keras.losses.SparseCategoricalCrossentropy(), metrics=['accuracy'])\n",
    "\n",
    "\n",
    "history = new_model.fit(train_batches, epochs=initial_epochs)\n",
    "\n",
    "acc = history.history['accuracy']\n",
    "\n",
    "print(acc)\n",
    "\n",
    "\n",
    "new_model.save('FineTunedModel.h5')\n"
   ]
  }
 ],
 "metadata": {
  "kernelspec": {
   "display_name": "Python 3",
   "language": "python",
   "name": "python3"
  },
  "language_info": {
   "name": "python",
   "version": "undefined.undefined.undefined"
  }
 },
 "nbformat": 4,
 "nbformat_minor": 2
}
